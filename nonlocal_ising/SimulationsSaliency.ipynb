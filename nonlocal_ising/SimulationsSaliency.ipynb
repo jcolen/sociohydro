{
 "cells": [
  {
   "cell_type": "code",
   "execution_count": 3,
   "metadata": {},
   "outputs": [
    {
     "name": "stdout",
     "output_type": "stream",
     "text": [
      "The autoreload extension is already loaded. To reload it, use:\n",
      "  %reload_ext autoreload\n",
      "cuda:0\n"
     ]
    }
   ],
   "source": [
    "%load_ext autoreload\n",
    "%autoreload 2\n",
    "%matplotlib inline\n",
    "\n",
    "import numpy as np\n",
    "import h5py\n",
    "import torch\n",
    "\n",
    "import warnings\n",
    "warnings.filterwarnings('ignore')\n",
    "\n",
    "import matplotlib\n",
    "import matplotlib.pyplot as plt\n",
    "device = torch.device('cuda:0' if torch.cuda.is_available() else 'cpu')\n",
    "print(device)\n",
    "np.set_printoptions(precision=2, suppress=False)\n",
    "\n",
    "import torch\n",
    "import json\n",
    "import os\n",
    "import pandas as pd\n",
    "from pprint import pprint\n",
    "from forecasting_dataset import SimulationDataset\n",
    "from forecasting_nn import SimulationForecasting\n",
    "from pprint import pprint"
   ]
  },
  {
   "cell_type": "markdown",
   "metadata": {},
   "source": [
    "## Calculate the saliencies using the validation dataset for each model"
   ]
  },
  {
   "cell_type": "code",
   "execution_count": 8,
   "metadata": {},
   "outputs": [
    {
     "name": "stdout",
     "output_type": "stream",
     "text": [
      "(256, 256)\n"
     ]
    },
    {
     "name": "stderr",
     "output_type": "stream",
     "text": [
      "100%|██████████| 25/25 [01:08<00:00,  2.72s/it]\n"
     ]
    },
    {
     "name": "stdout",
     "output_type": "stream",
     "text": [
      "(256, 256)\n"
     ]
    },
    {
     "name": "stderr",
     "output_type": "stream",
     "text": [
      "100%|██████████| 25/25 [01:08<00:00,  2.73s/it]\n"
     ]
    },
    {
     "name": "stdout",
     "output_type": "stream",
     "text": [
      "(256, 256)\n"
     ]
    },
    {
     "name": "stderr",
     "output_type": "stream",
     "text": [
      "100%|██████████| 25/25 [01:08<00:00,  2.73s/it]\n"
     ]
    },
    {
     "name": "stdout",
     "output_type": "stream",
     "text": [
      "(256, 256)\n"
     ]
    },
    {
     "name": "stderr",
     "output_type": "stream",
     "text": [
      "100%|██████████| 25/25 [01:08<00:00,  2.73s/it]\n"
     ]
    },
    {
     "name": "stdout",
     "output_type": "stream",
     "text": [
      "(256, 256)\n"
     ]
    },
    {
     "name": "stderr",
     "output_type": "stream",
     "text": [
      "100%|██████████| 25/25 [01:08<00:00,  2.73s/it]\n"
     ]
    },
    {
     "name": "stdout",
     "output_type": "stream",
     "text": [
      "(256, 256)\n"
     ]
    },
    {
     "name": "stderr",
     "output_type": "stream",
     "text": [
      "100%|██████████| 25/25 [01:08<00:00,  2.73s/it]\n"
     ]
    },
    {
     "name": "stdout",
     "output_type": "stream",
     "text": [
      "(256, 256)\n"
     ]
    },
    {
     "name": "stderr",
     "output_type": "stream",
     "text": [
      "100%|██████████| 25/25 [01:08<00:00,  2.72s/it]\n"
     ]
    },
    {
     "name": "stdout",
     "output_type": "stream",
     "text": [
      "(256, 256)\n"
     ]
    },
    {
     "name": "stderr",
     "output_type": "stream",
     "text": [
      "100%|██████████| 25/25 [01:08<00:00,  2.72s/it]\n"
     ]
    },
    {
     "name": "stdout",
     "output_type": "stream",
     "text": [
      "(256, 256)\n"
     ]
    },
    {
     "name": "stderr",
     "output_type": "stream",
     "text": [
      "100%|██████████| 25/25 [01:08<00:00,  2.72s/it]\n"
     ]
    },
    {
     "name": "stdout",
     "output_type": "stream",
     "text": [
      "(256, 256)\n"
     ]
    },
    {
     "name": "stderr",
     "output_type": "stream",
     "text": [
      "100%|██████████| 25/25 [01:08<00:00,  2.72s/it]\n"
     ]
    },
    {
     "name": "stdout",
     "output_type": "stream",
     "text": [
      "(256, 256)\n"
     ]
    },
    {
     "name": "stderr",
     "output_type": "stream",
     "text": [
      "100%|██████████| 25/25 [01:08<00:00,  2.72s/it]\n"
     ]
    },
    {
     "name": "stdout",
     "output_type": "stream",
     "text": [
      "(256, 256)\n"
     ]
    },
    {
     "name": "stderr",
     "output_type": "stream",
     "text": [
      "100%|██████████| 25/25 [01:08<00:00,  2.72s/it]\n"
     ]
    },
    {
     "name": "stdout",
     "output_type": "stream",
     "text": [
      "(256, 256)\n"
     ]
    },
    {
     "name": "stderr",
     "output_type": "stream",
     "text": [
      "100%|██████████| 25/25 [01:07<00:00,  2.72s/it]\n"
     ]
    },
    {
     "name": "stdout",
     "output_type": "stream",
     "text": [
      "(256, 256)\n"
     ]
    },
    {
     "name": "stderr",
     "output_type": "stream",
     "text": [
      "100%|██████████| 25/25 [01:08<00:00,  2.72s/it]\n"
     ]
    },
    {
     "name": "stdout",
     "output_type": "stream",
     "text": [
      "(256, 256)\n"
     ]
    },
    {
     "name": "stderr",
     "output_type": "stream",
     "text": [
      "100%|██████████| 25/25 [01:07<00:00,  2.72s/it]\n"
     ]
    },
    {
     "name": "stdout",
     "output_type": "stream",
     "text": [
      "(256, 256)\n"
     ]
    },
    {
     "name": "stderr",
     "output_type": "stream",
     "text": [
      "100%|██████████| 25/25 [01:08<00:00,  2.72s/it]\n"
     ]
    },
    {
     "name": "stdout",
     "output_type": "stream",
     "text": [
      "(256, 256)\n"
     ]
    },
    {
     "name": "stderr",
     "output_type": "stream",
     "text": [
      "100%|██████████| 25/25 [01:07<00:00,  2.72s/it]\n"
     ]
    },
    {
     "name": "stdout",
     "output_type": "stream",
     "text": [
      "(256, 256)\n"
     ]
    },
    {
     "name": "stderr",
     "output_type": "stream",
     "text": [
      "100%|██████████| 25/25 [01:08<00:00,  2.72s/it]\n"
     ]
    },
    {
     "name": "stdout",
     "output_type": "stream",
     "text": [
      "(256, 256)\n"
     ]
    },
    {
     "name": "stderr",
     "output_type": "stream",
     "text": [
      "100%|██████████| 25/25 [01:07<00:00,  2.72s/it]\n"
     ]
    },
    {
     "name": "stdout",
     "output_type": "stream",
     "text": [
      "(256, 256)\n"
     ]
    },
    {
     "name": "stderr",
     "output_type": "stream",
     "text": [
      "100%|██████████| 25/25 [01:08<00:00,  2.72s/it]\n"
     ]
    }
   ],
   "source": [
    "from tqdm.auto import tqdm\n",
    "\n",
    "def compute_saliency(model, phi):\n",
    "    '''\n",
    "    Make predictions of the time derivative for each time point in sample\n",
    "    Compute saliency using those predictions\n",
    "    model is a neural network whose forward function predicts the time derivative\n",
    "    phi is a [T, C, H, W] shaped FloatTensor which is a time series of occupation fractions\n",
    "    '''\n",
    "    loc = torch.zeros(phi.shape[-2:], dtype=phi.dtype, device=phi.device)\n",
    "    G_S_sum = np.zeros(phi.shape[-2:])\n",
    "\n",
    "    print(phi[0,0].cpu().numpy().shape)\n",
    "\n",
    "    mask = np.ones(phi.shape[-2:], dtype=bool)\n",
    "    nnz = np.asarray(np.nonzero(mask)).T\n",
    "    for tt in tqdm(range(phi.shape[0])):\n",
    "        G_S = []\n",
    "        inputs = phi[tt:tt+1].clone()\n",
    "        inputs.requires_grad = True\n",
    "        dt_phi = model(inputs)\n",
    "\n",
    "        # Select 100 random points to compute saliency\n",
    "        np.random.shuffle(nnz)\n",
    "        pts = nnz[:100]\n",
    "\n",
    "        # print(loc.shape, pts)\n",
    "\n",
    "        # Compute prediction saliency\n",
    "        G_S = []\n",
    "        for pt in pts:\n",
    "            loc[:] = 0.\n",
    "            loc[pt[0], pt[1]] = 1.\n",
    "\n",
    "            grad = torch.autograd.grad(dt_phi[0,0],inputs, grad_outputs=loc, retain_graph=True)[0]\n",
    "            G_S.append(grad.detach().cpu().numpy().squeeze())\n",
    "\n",
    "        # Shift gradients to have common origin\n",
    "        center = np.asarray([G_S[0].shape[-2]/2, G_S[0].shape[-1]/2]).astype(int)\n",
    "        shifts = np.asarray(center-pts)\n",
    "        G_S_shifted = np.asarray([np.roll(g, shift, axis=(-2,-1)) for shift, g in zip(shifts, G_S)])\n",
    "\n",
    "        # Add to aggregated G_S_sum\n",
    "        G_S_sum += np.sum(G_S_shifted, axis=0)\n",
    "        \n",
    "    return G_S_sum\n",
    "\n",
    "for i in range(4):\n",
    "    model_path = f'models/SimulationForecasting_sigma10_{i}'\n",
    "    \n",
    "    # Load model\n",
    "    info = torch.load(f'{model_path}.ckpt')\n",
    "    model = SimulationForecasting().to(device)\n",
    "    model.load_state_dict(info['state_dict'])\n",
    "    model.eval();\n",
    "    \n",
    "    # Get validation set simulation\n",
    "    with open(f'{model_path}_args.txt', 'r') as f:\n",
    "        info = json.load(f)\n",
    "    \n",
    "        G_S_sum = 0\n",
    "    \n",
    "        for folder in np.random.choice(info['val_folder'], 5):\n",
    "            ds = SimulationDataset(folder, seq_len=25, sigma=info.get('sigma', 0))\n",
    "    \n",
    "            sample = ds[0]\n",
    "            phi = sample['phi'].to(device)\n",
    "            G_S_sum += compute_saliency(model, phi)\n",
    "    \n",
    "        np.save(f'{model_path}_saliency.npy', G_S_sum)"
   ]
  },
  {
   "cell_type": "markdown",
   "metadata": {},
   "source": [
    "## Plot the saliencies"
   ]
  },
  {
   "cell_type": "code",
   "execution_count": 5,
   "metadata": {},
   "outputs": [
    {
     "ename": "FileNotFoundError",
     "evalue": "[Errno 2] No such file or directory: 'models/SimulationForecasting_sigma10_0_saliency.npy'",
     "output_type": "error",
     "traceback": [
      "\u001b[0;31m---------------------------------------------------------------------------\u001b[0m",
      "\u001b[0;31mFileNotFoundError\u001b[0m                         Traceback (most recent call last)",
      "Cell \u001b[0;32mIn[5], line 27\u001b[0m\n\u001b[1;32m     25\u001b[0m \u001b[38;5;28;01mfor\u001b[39;00m i \u001b[38;5;129;01min\u001b[39;00m \u001b[38;5;28mrange\u001b[39m(\u001b[38;5;241m4\u001b[39m):\n\u001b[1;32m     26\u001b[0m     model_path \u001b[38;5;241m=\u001b[39m \u001b[38;5;124mf\u001b[39m\u001b[38;5;124m'\u001b[39m\u001b[38;5;124mmodels/SimulationForecasting_sigma10_\u001b[39m\u001b[38;5;132;01m{\u001b[39;00mi\u001b[38;5;132;01m}\u001b[39;00m\u001b[38;5;124m'\u001b[39m\n\u001b[0;32m---> 27\u001b[0m     G_s \u001b[38;5;241m=\u001b[39m \u001b[43mnp\u001b[49m\u001b[38;5;241;43m.\u001b[39;49m\u001b[43mload\u001b[49m\u001b[43m(\u001b[49m\u001b[38;5;124;43mf\u001b[39;49m\u001b[38;5;124;43m'\u001b[39;49m\u001b[38;5;132;43;01m{\u001b[39;49;00m\u001b[43mmodel_path\u001b[49m\u001b[38;5;132;43;01m}\u001b[39;49;00m\u001b[38;5;124;43m_saliency.npy\u001b[39;49m\u001b[38;5;124;43m'\u001b[39;49m\u001b[43m)\u001b[49m\n\u001b[1;32m     29\u001b[0m     r, gr \u001b[38;5;241m=\u001b[39m get_Gr(G_s)\n\u001b[1;32m     30\u001b[0m     G_r\u001b[38;5;241m.\u001b[39mappend(gr)\n",
      "File \u001b[0;32m~/jonathan/sociohydro_env/lib/python3.12/site-packages/numpy/lib/npyio.py:427\u001b[0m, in \u001b[0;36mload\u001b[0;34m(file, mmap_mode, allow_pickle, fix_imports, encoding, max_header_size)\u001b[0m\n\u001b[1;32m    425\u001b[0m     own_fid \u001b[38;5;241m=\u001b[39m \u001b[38;5;28;01mFalse\u001b[39;00m\n\u001b[1;32m    426\u001b[0m \u001b[38;5;28;01melse\u001b[39;00m:\n\u001b[0;32m--> 427\u001b[0m     fid \u001b[38;5;241m=\u001b[39m stack\u001b[38;5;241m.\u001b[39menter_context(\u001b[38;5;28;43mopen\u001b[39;49m\u001b[43m(\u001b[49m\u001b[43mos_fspath\u001b[49m\u001b[43m(\u001b[49m\u001b[43mfile\u001b[49m\u001b[43m)\u001b[49m\u001b[43m,\u001b[49m\u001b[43m \u001b[49m\u001b[38;5;124;43m\"\u001b[39;49m\u001b[38;5;124;43mrb\u001b[39;49m\u001b[38;5;124;43m\"\u001b[39;49m\u001b[43m)\u001b[49m)\n\u001b[1;32m    428\u001b[0m     own_fid \u001b[38;5;241m=\u001b[39m \u001b[38;5;28;01mTrue\u001b[39;00m\n\u001b[1;32m    430\u001b[0m \u001b[38;5;66;03m# Code to distinguish from NumPy binary files and pickles.\u001b[39;00m\n",
      "\u001b[0;31mFileNotFoundError\u001b[0m: [Errno 2] No such file or directory: 'models/SimulationForecasting_sigma10_0_saliency.npy'"
     ]
    },
    {
     "data": {
      "image/png": "[encoded data removed]",
      "text/plain": [
       "<Figure size 500x500 with 1 Axes>"
      ]
     },
     "metadata": {},
     "output_type": "display_data"
    }
   ],
   "source": [
    "ds = SimulationDataset('/project/vitelli/dsseara/ising/2024-04-15_kawasaki/data/n01', seq_len=25, sigma=10)\n",
    "\n",
    "\n",
    "X = ds.x - np.mean(ds.x)\n",
    "Y = ds.y - np.mean(ds.y)\n",
    "\n",
    "def get_Gr(G_r, x=X , y=Y):\n",
    "    G_r = G_r / np.abs(G_r).max() #Normalize by the maximum absolute value\n",
    "    \n",
    "    rgrid = np.linalg.norm(np.stack([x, y]), axis=0)\n",
    "    r = np.linspace(0., np.max(rgrid), 100)\n",
    "    dr = r[1] - r[0]\n",
    "    \n",
    "    #Compute radial average\n",
    "    gr = np.zeros(len(r))\n",
    "    for j in range(len(r)):\n",
    "        gr[j] = np.mean(G_r[np.abs(rgrid - r[j]) <= dr])\n",
    "        \n",
    "    return r, gr\n",
    "\n",
    "fig, ax = plt.subplots(1, 1, dpi=200, figsize=(2.5, 2.5))\n",
    "\n",
    "G_r = []\n",
    "\n",
    "for i in range(4):\n",
    "    model_path = f'models/sigma10/SimulationForecasting_sigma10_{i}'\n",
    "    G_s = np.load(f'{model_path}_saliency.npy')\n",
    "    \n",
    "    r, gr = get_Gr(G_s)\n",
    "    G_r.append(gr)\n",
    "\n",
    "G_r = np.stack(G_r)\n",
    "G_mean = np.mean(G_r, axis=0)\n",
    "G_std = np.std(G_r, axis=0)\n",
    "\n",
    "ax.plot(r, G_mean, color='black')\n",
    "ax.fill_between(r, G_mean-G_std, G_mean+G_std, color='black', alpha=0.3)\n",
    "\n",
    "ax.set(\n",
    "    xlabel='$r$',\n",
    "    ylabel='$\\kappa(r)$'\n",
    ")\n",
    "ax.tick_params(which='both', direction='in')\n",
    "ax.grid(True)\n",
    "\n",
    "fig.savefig('Figures/saliency_plot.pdf', bbox_inches='tight')"
   ]
  },
  {
   "cell_type": "code",
   "execution_count": null,
   "metadata": {},
   "outputs": [],
   "source": []
  }
 ],
 "metadata": {
  "kernelspec": {
   "display_name": "Python 3 (ipykernel)",
   "language": "python",
   "name": "python3"
  },
  "language_info": {
   "codemirror_mode": {
    "name": "ipython",
    "version": 3
   },
   "file_extension": ".py",
   "mimetype": "text/x-python",
   "name": "python",
   "nbconvert_exporter": "python",
   "pygments_lexer": "ipython3",
   "version": "3.12.8"
  }
 },
 "nbformat": 4,
 "nbformat_minor": 4
}
